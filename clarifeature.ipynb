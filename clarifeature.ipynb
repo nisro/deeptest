{
 "cells": [
  {
   "cell_type": "markdown",
   "metadata": {},
   "source": [
    "# Let's do some setup first\n",
    "\n",
    "Let's test the API first and the setup\n",
    "\n",
    "Let's measure how much time it requires to get a prediction from clarifai\n",
    "\n",
    "On a un problème de scalabilité : 1 seconde pour une classification\n"
   ]
  },
  {
   "cell_type": "code",
   "execution_count": 2,
   "metadata": {},
   "outputs": [
    {
     "name": "stderr",
     "output_type": "stream",
     "text": [
      "Hey! Clarifai Python Client v2.0.29 upgrade available.\n"
     ]
    },
    {
     "name": "stdout",
     "output_type": "stream",
     "text": [
      "{'status': {'description': 'Ok', 'code': 10000}, 'outputs': [{'input': {'data': {'image': {'url': 'http://www.journaldugeek.com/files/2016/07/Jeff-Bezos.jpg'}}, 'id': 'fee6a3a6dbb042b7b6eecb82468dfd70'}, 'created_at': '2017-07-04T20:21:44.822024923Z', 'model': {'model_version': {'status': {'description': 'Model trained successfully', 'code': 21100}, 'created_at': '2016-07-13T01:19:12.147644Z', 'id': 'aa9ca48295b37401f8af92ad1af0d91d'}, 'app_id': 'main', 'created_at': '2016-03-09T17:11:39.608845Z', 'name': 'general-v1.3', 'id': 'aaa03c23b3724a16a56b629203edc62c', 'output_info': {'type_ext': 'concept', 'message': 'Show output_info with: GET /models/{model_id}/output_info', 'type': 'concept'}}, 'status': {'description': 'Ok', 'code': 10000}, 'id': 'b4c1e544e4e34597bb17bc9571ac455c', 'data': {'concepts': [{'value': 0.9912883, 'name': 'man', 'app_id': 'main', 'id': 'ai_dxSG2s86'}, {'value': 0.9802798, 'name': 'people', 'app_id': 'main', 'id': 'ai_l8TKp2h5'}, {'value': 0.97664106, 'name': 'portrait', 'app_id': 'main', 'id': 'ai_TJ9wFfK5'}, {'value': 0.96092874, 'name': 'adult', 'app_id': 'main', 'id': 'ai_VPmHr5bm'}, {'value': 0.9489207, 'name': 'one', 'app_id': 'main', 'id': 'ai_SVshtN54'}, {'value': 0.93262696, 'name': 'business', 'app_id': 'main', 'id': 'ai_6lhccv44'}, {'value': 0.8891473, 'name': 'football', 'app_id': 'main', 'id': 'ai_mXT38hpL'}, {'value': 0.8670021, 'name': 'face', 'app_id': 'main', 'id': 'ai_8jtPl3Xj'}, {'value': 0.8615794, 'name': 'leader', 'app_id': 'main', 'id': 'ai_nNRnTLMl'}, {'value': 0.85833496, 'name': 'soccer', 'app_id': 'main', 'id': 'ai_fKppxwrj'}, {'value': 0.85589886, 'name': 'wear', 'app_id': 'main', 'id': 'ai_86sS08Pw'}, {'value': 0.7752737, 'name': 'success', 'app_id': 'main', 'id': 'ai_51fKmtXB'}, {'value': 0.77078867, 'name': 'indoors', 'app_id': 'main', 'id': 'ai_Pf2b7clG'}, {'value': 0.73524994, 'name': 'corporate', 'app_id': 'main', 'id': 'ai_gwxxh07z'}, {'value': 0.7319932, 'name': 'competition', 'app_id': 'main', 'id': 'ai_7WNVdPhm'}, {'value': 0.7290118, 'name': 'professional', 'app_id': 'main', 'id': 'ai_r0BNpPMm'}, {'value': 0.7260829, 'name': 'fine-looking', 'app_id': 'main', 'id': 'ai_fNR8CQHt'}, {'value': 0.7248788, 'name': 'tie', 'app_id': 'main', 'id': 'ai_M2T81hNw'}, {'value': 0.72178376, 'name': 'outfit', 'app_id': 'main', 'id': 'ai_ntt6Zlfl'}, {'value': 0.72013617, 'name': 'facial expression', 'app_id': 'main', 'id': 'ai_GxSDhQ34'}]}}]}\n",
      "{'status': {'description': 'Ok', 'code': 10000}, 'outputs': [{'input': {'data': {'image': {'url': 'https://previews.123rf.com/images/iwansntu/iwansntu1311/iwansntu131100004/24428202-Wide-view-of-old-railway-track-around-Rifle-Range-Road-Bukit-Timah-Singapore-Stock-Photo.jpg'}}, 'id': 'bf2513e2960140acac4d0a4317ca66c5'}, 'created_at': '2017-07-04T20:21:46.864858089Z', 'model': {'model_version': {'status': {'description': 'Model trained successfully', 'code': 21100}, 'created_at': '2016-07-13T01:19:12.147644Z', 'id': 'aa9ca48295b37401f8af92ad1af0d91d'}, 'app_id': 'main', 'created_at': '2016-03-09T17:11:39.608845Z', 'name': 'general-v1.3', 'id': 'aaa03c23b3724a16a56b629203edc62c', 'output_info': {'type_ext': 'concept', 'message': 'Show output_info with: GET /models/{model_id}/output_info', 'type': 'concept'}}, 'status': {'description': 'Ok', 'code': 10000}, 'id': 'f21e2954300b48b5bb15e94dfee08a1a', 'data': {'concepts': [{'value': 0.99766314, 'name': 'railroad track', 'app_id': 'main', 'id': 'ai_46lGZ4Gm'}, {'value': 0.99751747, 'name': 'railway', 'app_id': 'main', 'id': 'ai_fvlBqXZR'}, {'value': 0.99629617, 'name': 'track', 'app_id': 'main', 'id': 'ai_971KsJkn'}, {'value': 0.99562633, 'name': 'locomotive', 'app_id': 'main', 'id': 'ai_RRXLczch'}, {'value': 0.99193525, 'name': 'travel', 'app_id': 'main', 'id': 'ai_VRmbGVWh'}, {'value': 0.98809934, 'name': 'guidance', 'app_id': 'main', 'id': 'ai_RzrbbnhM'}, {'value': 0.9869814, 'name': 'train', 'app_id': 'main', 'id': 'ai_HLmqFqBf'}, {'value': 0.9810003, 'name': 'no person', 'app_id': 'main', 'id': 'ai_786Zr311'}, {'value': 0.9807961, 'name': 'transportation system', 'app_id': 'main', 'id': 'ai_Xxjc3MhT'}, {'value': 0.9789626, 'name': 'trip (journey)', 'app_id': 'main', 'id': 'ai_DFvZTXj3'}, {'value': 0.96771634, 'name': 'outdoors', 'app_id': 'main', 'id': 'ai_Zmhsv0Ch'}, {'value': 0.96490264, 'name': 'road', 'app_id': 'main', 'id': 'ai_TZ3C79C6'}, {'value': 0.96369034, 'name': 'nature', 'app_id': 'main', 'id': 'ai_tBcWlsCp'}, {'value': 0.9597298, 'name': 'gravel', 'app_id': 'main', 'id': 'ai_Nb5c2JGh'}, {'value': 0.9547471, 'name': 'perspective', 'app_id': 'main', 'id': 'ai_rwZl6Fm5'}, {'value': 0.9453919, 'name': 'wood', 'app_id': 'main', 'id': 'ai_zFnPQdgB'}, {'value': 0.9351898, 'name': 'tree', 'app_id': 'main', 'id': 'ai_TjbmxC6B'}, {'value': 0.92568827, 'name': 'summer', 'app_id': 'main', 'id': 'ai_FsT0Zqdb'}, {'value': 0.9160632, 'name': 'long', 'app_id': 'main', 'id': 'ai_ZLzZC0BS'}, {'value': 0.90430707, 'name': 'junction', 'app_id': 'main', 'id': 'ai_MjMmc6Fs'}]}}]}\n",
      "--- 0.8920791149139404 seconds ---\n"
     ]
    }
   ],
   "source": [
    "from clarifai import rest\n",
    "from clarifai.rest import ClarifaiApp\n",
    "import numpy as np\n",
    "import time\n",
    "\n",
    "app = ClarifaiApp(\"MkJ4CqC10UXCw8lFZrp04JIntyLidwU375tFSusY\", \"-UgMOcuirnzYH4Oei2bVTI4ekXbVPw5LvcEpfkIb\")\n",
    "# model = app.models.get('testing')\n",
    "model = app.models.get(\"general-v1.3\")\n",
    "t = model.get_info(verbose=True)\n",
    "\n",
    "print (model.predict_by_url(url='http://www.journaldugeek.com/files/2016/07/Jeff-Bezos.jpg'))\n",
    "\n",
    "# I measure the time required for one request\n",
    "\n",
    "start_time = time.time()\n",
    "r = model.predict_by_url(url='https://previews.123rf.com/images/iwansntu/iwansntu1311/iwansntu131100004/24428202-Wide-view-of-old-railway-track-around-Rifle-Range-Road-Bukit-Timah-Singapore-Stock-Photo.jpg')\n",
    "print(r)\n",
    "print(\"--- %s seconds ---\" % (time.time() - start_time))\n",
    "\n"
   ]
  },
  {
   "cell_type": "markdown",
   "metadata": {},
   "source": [
    "# List of available Concepts\n",
    "\n",
    "Let's try to get the list of available concepts in the Clarifai generak engine"
   ]
  },
  {
   "cell_type": "code",
   "execution_count": 4,
   "metadata": {
    "collapsed": true
   },
   "outputs": [],
   "source": [
    "concepts = t['model']['output_info']['data']['concepts']\n",
    "\n",
    "# print only the names of the objects\n",
    "names_list = list( map(lambda x:x['name'] , concepts) )\n",
    "names_list.sort()\n",
    "\n",
    "\n",
    "D = len(names_list)"
   ]
  },
  {
   "cell_type": "markdown",
   "metadata": {
    "collapsed": true
   },
   "source": [
    "# Create a feature map"
   ]
  },
  {
   "cell_type": "code",
   "execution_count": 3,
   "metadata": {
    "collapsed": true
   },
   "outputs": [],
   "source": [
    "import os\n",
    "\n",
    "fmap = {}\n",
    "for i in range(len(names_list)):\n",
    "    fmap[names_list[i]] = i\n",
    "\n",
    "\n",
    "def get_classes(uniquePred):\n",
    "    return list(map(lambda x: ({'name': x['name'], 'value' : x['value']}), uniquePred))\n",
    "\n",
    "def clean_features(pred) :\n",
    "    # get the predictins only\n",
    "    cpred =  list(map(lambda x : x['outputs'][0]['data']['concepts'], pred))\n",
    "    # get the predictions name and value only\n",
    "    cpred = list(map (lambda x : get_classes(x), cpred))\n",
    "    return cpred\n",
    "\n",
    "def pred_from_file(fname, model):\n",
    "    content = list()\n",
    "    with open(fname) as f:\n",
    "        urlList = f.readlines()\n",
    "        # remove whitespace characters like `\\n` at the end of each line\n",
    "        urlList = [x.strip() for x in urlList]\n",
    "        urlList = list(filter(lambda x: x != '', urlList))   # remove blanks\n",
    "        url_class = list(map(lambda x: x.split(','), urlList))\n",
    "        pred = list(map(lambda urlc : model.predict_by_url(urlc[0]),url_class))\n",
    "        y = list(map(lambda x: int(x[1]), url_class))\n",
    "    f.close()\n",
    "    return pred, y\n",
    "\n",
    "def pred_from_folder(folname, model)\n",
    "\n",
    "def create_feature_map(fname, model):\n",
    "    pred, y = pred_from_file(fname, model) # create predictions list\n",
    "    c_features = clean_features(pred) # clean the predictions to keep the features only\n",
    "    X = featureMap(c_features, fmap) # Now construct a feature map\n",
    "    return X, y\n",
    "\n",
    "def featureMap(c_features, fmap):\n",
    "    N, D = len(c_features), len(fmap)\n",
    "    X = np.zeros((N,D))\n",
    "    for i in range(N):\n",
    "        for f in c_features[i]:\n",
    "            pos = fmap[f['name']]\n",
    "            X[i, pos] = f['value']\n",
    "    return X\n",
    "\n",
    "X, y = create_feature_map('untitled.txt', model)\n",
    "        "
   ]
  },
  {
   "cell_type": "markdown",
   "metadata": {},
   "source": [
    "# Train a classifier\n",
    "\n",
    "We train a small classifier on the files' dataset and see the accuracy we could achieve"
   ]
  },
  {
   "cell_type": "code",
   "execution_count": 5,
   "metadata": {
    "collapsed": true
   },
   "outputs": [],
   "source": [
    "from sklearn.ensemble import RandomForestClassifier\n",
    "from sklearn.model_selection import train_test_split\n",
    "\n",
    "# split to a training and validation \n",
    "X_train, X_test, y_train, y_test = train_test_split(\n",
    "    X, y, test_size=0.3)\n",
    "\n",
    "clf = RandomForestClassifier(n_estimators=10)\n",
    "clf = clf.fit(X_train, y_train)\n"
   ]
  }
 ],
 "metadata": {
  "anaconda-cloud": {},
  "kernelspec": {
   "display_name": "Python [conda root]",
   "language": "python",
   "name": "conda-root-py"
  },
  "language_info": {
   "codemirror_mode": {
    "name": "ipython",
    "version": 3
   },
   "file_extension": ".py",
   "mimetype": "text/x-python",
   "name": "python",
   "nbconvert_exporter": "python",
   "pygments_lexer": "ipython3",
   "version": "3.5.2"
  }
 },
 "nbformat": 4,
 "nbformat_minor": 1
}
