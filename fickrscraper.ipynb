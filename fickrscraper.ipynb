{
 "cells": [
  {
   "cell_type": "markdown",
   "metadata": {},
   "source": [
    "# Initialize the Flickr API"
   ]
  },
  {
   "cell_type": "code",
   "execution_count": 1,
   "metadata": {
    "collapsed": true
   },
   "outputs": [],
   "source": [
    "from flickrapi import FlickrAPI\n",
    "\n",
    "FLICKR_PUBLIC = '020b08efab13810efede65dedce49e46'\n",
    "FLICKR_SECRET = '2d4a3834b368d9a9'\n",
    "\n",
    "flickr = FlickrAPI(FLICKR_PUBLIC, FLICKR_SECRET, format='parsed-json')\n",
    "extras='url_sq,url_t,url_s,url_q,url_m,url_n,url_z,url_c,url_l,url_o'"
   ]
  },
  {
   "cell_type": "markdown",
   "metadata": {},
   "source": [
    "# Read the classes file\n",
    "\n",
    "The classes file 'newclasses.txt' has a set of classes that we want to collect images for. The file 'availableclasses.txt' contains the names of the classes that we know When you want to add a new class. If you want to add new classes, add their names to newclasses.txt and run the script. God bless !\n"
   ]
  },
  {
   "cell_type": "code",
   "execution_count": 6,
   "metadata": {},
   "outputs": [],
   "source": [
    "import os\n",
    "import urllib.request\n",
    "\n",
    "fname = 'newclasses.txt'\n",
    "url_size = 'url_m'\n",
    "\n",
    "def retrieve_list(fname_new, fname_available, numImg):\n",
    "    newclasses = get_class_names(fname_new, fname_available)\n",
    "    for cl in newclasses:\n",
    "        getImages(cl, flickr, numImg)\n",
    "        \n",
    "def readFLineByLine(fname):\n",
    "    with open(fname) as f:\n",
    "        lList = f.readlines()\n",
    "        # remove whitespace characters like `\\n` at the end of each line\n",
    "        lList = [x.strip() for x in lList]\n",
    "        lList = list(filter(lambda x: x != '', lList))   # remove blanks\n",
    "    f.close()\n",
    "    return lList\n",
    "\n",
    "def get_class_names(fname_new, fname_available):\n",
    "    # index fname_available\n",
    "    newclList = readFLineByLine(fname_new)\n",
    "    oldclList = readFLineByLine(fname_available) \n",
    "    retrieveList = list(set(newclList) - set(oldclList))\n",
    "    return retrieveList\n",
    "\n",
    "def write_list_to_file(thefile, listname):\n",
    "    for item in listname:\n",
    "        thefile.write(\"%s\\n\" % item)\n",
    "\n",
    "def getImages(classname, flickr, numImg):\n",
    "    # create a folder first, the folders will be under the folder images -> image name\n",
    "    cwd = os.getcwd() + '\\\\images'\n",
    "    dirname = cwd  + '\\\\' + classname\n",
    "    if not os.path.exists(dirname):\n",
    "        os.makedirs(dirname)\n",
    "    page = 1\n",
    "    urls = list()\n",
    "    while len(urls)<numImg:\n",
    "        urls.extend(flickr_search_urls(classname, url_size, page))\n",
    "        page += 1\n",
    "    thefile = open(dirname + '\\\\' + classname + '.txt', 'w')\n",
    "    write_list_to_file(thefile, urls)\n",
    "    # download te files\n",
    "    download_images_from_url(dirname, urls)\n",
    "\n",
    "\n",
    "def flickr_search_urls(keyword, url_size, pagen):\n",
    "    \"\"\"####################################################\n",
    "        This searches for images in Flickr with keywords\n",
    "                and returns images urls\n",
    "    #######################################################\n",
    "    \"\"\"\n",
    "    obj = flickr.photos.search(text=keyword, \n",
    "                            per_page=200, \n",
    "                            extras=url_size,\n",
    "                              page = pagen)\n",
    "    photos = obj['photos']['photo']\n",
    "    url_list = map(lambda x: x.get(url_size), photos)\n",
    "    clean_urls = filter(lambda x: x != None, url_list)\n",
    "    return list(clean_urls)\n",
    "\n",
    "def download_images_from_url(dirname, urls):\n",
    "    for url, n in zip(urls, range(len(urls))):        \n",
    "        urllib.request.urlretrieve(url, dirname + '\\\\' + str(n) + '.jpg')\n",
    "        \n",
    "retrieve_list('untitled.txt', 'old.txt', 1000)\n",
    "    "
   ]
  }
 ],
 "metadata": {
  "kernelspec": {
   "display_name": "Python [conda root]",
   "language": "python",
   "name": "conda-root-py"
  },
  "language_info": {
   "codemirror_mode": {
    "name": "ipython",
    "version": 3
   },
   "file_extension": ".py",
   "mimetype": "text/x-python",
   "name": "python",
   "nbconvert_exporter": "python",
   "pygments_lexer": "ipython3",
   "version": "3.5.2"
  }
 },
 "nbformat": 4,
 "nbformat_minor": 2
}
